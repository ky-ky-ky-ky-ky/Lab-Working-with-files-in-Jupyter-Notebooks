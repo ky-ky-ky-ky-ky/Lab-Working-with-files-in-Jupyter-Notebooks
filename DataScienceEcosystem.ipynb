{
 "cells": [
  {
   "cell_type": "markdown",
   "id": "aaf9fa12-3027-4277-9403-05a83800307d",
   "metadata": {},
   "source": [
    "# Data Science Tools and Ecosystem"
   ]
  },
  {
   "cell_type": "markdown",
   "id": "245cb46d-b7cd-4b23-8f53-248847040560",
   "metadata": {},
   "source": [
    "In this notebook, Data Science Tools and Ecosystem are summarized."
   ]
  },
  {
   "cell_type": "markdown",
   "id": "23004b83-432f-4d47-bfbc-cfeb36145664",
   "metadata": {},
   "source": [
    "**Objectives:**\n",
    "- Some of the popular languages that Data Scientists use are\n",
    "- Some of the commonly used libraries used by Data Scientists include"
   ]
  },
  {
   "cell_type": "markdown",
   "id": "d5236ca4-b56c-4049-b3e4-5c89887858a8",
   "metadata": {},
   "source": [
    "Some of the popular languages that Data Scientists use are:\n",
    "1. Python\n",
    "2. R\n",
    "3. SQL"
   ]
  },
  {
   "cell_type": "markdown",
   "id": "a3c7e158-94e4-4f1c-a7f3-2f9a8933699d",
   "metadata": {},
   "source": [
    "Some of the commonly used libraries used by Data Scientists include:\n",
    "1. Panda\n",
    "2. Numpy\n",
    "3. Scikit learn\n",
    "4. matplotlib\n",
    "5. scipy\n",
    "6. tensor flow\n",
    "7. plotly"
   ]
  },
  {
   "cell_type": "markdown",
   "id": "599e0236-5543-412c-9433-4e19dbfafd19",
   "metadata": {},
   "source": [
    "\n",
    "Data Science Tools\n",
    "|---|\n",
    "Scrapy\n",
    "Hadoop\n",
    "GGPlot2\n",
    "RStudio\n"
   ]
  },
  {
   "cell_type": "markdown",
   "id": "94d5ee86-c969-4034-866a-02e080fa34e8",
   "metadata": {},
   "source": [
    "### Below are a few examples of evaluating arithmetic expressions in Python"
   ]
  },
  {
   "cell_type": "code",
   "execution_count": 2,
   "id": "d5d59265-d0c6-44de-8075-eb355ed963c2",
   "metadata": {},
   "outputs": [
    {
     "data": {
      "text/plain": [
       "17"
      ]
     },
     "execution_count": 2,
     "metadata": {},
     "output_type": "execute_result"
    }
   ],
   "source": [
    "#This a simple arithmetic expression to mutiply then add integers\n",
    "(3*4)+5"
   ]
  },
  {
   "cell_type": "code",
   "execution_count": 3,
   "id": "caa0a2bf-9aee-408e-8555-462b64d7c39c",
   "metadata": {},
   "outputs": [
    {
     "data": {
      "text/plain": [
       "3.3333333333333335"
      ]
     },
     "execution_count": 3,
     "metadata": {},
     "output_type": "execute_result"
    }
   ],
   "source": [
    "#This will convert 200 minutes to hours by diving by 60\n",
    "200/60"
   ]
  },
  {
   "cell_type": "markdown",
   "id": "5dd8f763-83df-447f-88b1-5125e17025e0",
   "metadata": {},
   "source": [
    "## Author\n",
    "KY"
   ]
  },
  {
   "cell_type": "code",
   "execution_count": null,
   "id": "186483f0-c032-474e-903c-823aaec90c53",
   "metadata": {},
   "outputs": [],
   "source": []
  }
 ],
 "metadata": {
  "kernelspec": {
   "display_name": "Python 3 (ipykernel)",
   "language": "python",
   "name": "python3"
  },
  "language_info": {
   "codemirror_mode": {
    "name": "ipython",
    "version": 3
   },
   "file_extension": ".py",
   "mimetype": "text/x-python",
   "name": "python",
   "nbconvert_exporter": "python",
   "pygments_lexer": "ipython3",
   "version": "3.11.9"
  }
 },
 "nbformat": 4,
 "nbformat_minor": 5
}
